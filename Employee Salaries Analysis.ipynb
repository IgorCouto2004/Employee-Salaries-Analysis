{
 "cells": [
  {
   "cell_type": "code",
   "execution_count": 69,
   "id": "ca8d7304",
   "metadata": {},
   "outputs": [],
   "source": [
    "import pandas as pd\n"
   ]
  },
  {
   "cell_type": "code",
   "execution_count": 70,
   "id": "7d8a58bb",
   "metadata": {},
   "outputs": [],
   "source": [
    "df = pd.read_csv(\"salario_profissionais_dados.csv\")"
   ]
  },
  {
   "cell_type": "code",
   "execution_count": 71,
   "id": "8739939a",
   "metadata": {},
   "outputs": [
    {
     "data": {
      "text/html": [
       "<div>\n",
       "<style scoped>\n",
       "    .dataframe tbody tr th:only-of-type {\n",
       "        vertical-align: middle;\n",
       "    }\n",
       "\n",
       "    .dataframe tbody tr th {\n",
       "        vertical-align: top;\n",
       "    }\n",
       "\n",
       "    .dataframe thead th {\n",
       "        text-align: right;\n",
       "    }\n",
       "</style>\n",
       "<table border=\"1\" class=\"dataframe\">\n",
       "  <thead>\n",
       "    <tr style=\"text-align: right;\">\n",
       "      <th></th>\n",
       "      <th>work_year</th>\n",
       "      <th>country</th>\n",
       "      <th>region</th>\n",
       "      <th>experience_level</th>\n",
       "      <th>job_title</th>\n",
       "      <th>salary_in_usd</th>\n",
       "      <th>employee_residence</th>\n",
       "      <th>company_location</th>\n",
       "      <th>company_size</th>\n",
       "      <th>years_of_experience</th>\n",
       "    </tr>\n",
       "  </thead>\n",
       "  <tbody>\n",
       "    <tr>\n",
       "      <th>0</th>\n",
       "      <td>2023</td>\n",
       "      <td>Spain</td>\n",
       "      <td>Europe</td>\n",
       "      <td>SE</td>\n",
       "      <td>Principal Data Scientist</td>\n",
       "      <td>85847</td>\n",
       "      <td>ES</td>\n",
       "      <td>ES</td>\n",
       "      <td>L</td>\n",
       "      <td>8</td>\n",
       "    </tr>\n",
       "    <tr>\n",
       "      <th>1</th>\n",
       "      <td>2023</td>\n",
       "      <td>United States of America</td>\n",
       "      <td>Americas</td>\n",
       "      <td>MI</td>\n",
       "      <td>ML Engineer</td>\n",
       "      <td>30000</td>\n",
       "      <td>US</td>\n",
       "      <td>US</td>\n",
       "      <td>S</td>\n",
       "      <td>5</td>\n",
       "    </tr>\n",
       "    <tr>\n",
       "      <th>2</th>\n",
       "      <td>2023</td>\n",
       "      <td>United States of America</td>\n",
       "      <td>Americas</td>\n",
       "      <td>MI</td>\n",
       "      <td>ML Engineer</td>\n",
       "      <td>25500</td>\n",
       "      <td>US</td>\n",
       "      <td>US</td>\n",
       "      <td>S</td>\n",
       "      <td>3</td>\n",
       "    </tr>\n",
       "    <tr>\n",
       "      <th>3</th>\n",
       "      <td>2023</td>\n",
       "      <td>Canada</td>\n",
       "      <td>Americas</td>\n",
       "      <td>SE</td>\n",
       "      <td>Data Scientist</td>\n",
       "      <td>175000</td>\n",
       "      <td>CA</td>\n",
       "      <td>CA</td>\n",
       "      <td>M</td>\n",
       "      <td>8</td>\n",
       "    </tr>\n",
       "    <tr>\n",
       "      <th>4</th>\n",
       "      <td>2023</td>\n",
       "      <td>Canada</td>\n",
       "      <td>Americas</td>\n",
       "      <td>SE</td>\n",
       "      <td>Data Scientist</td>\n",
       "      <td>120000</td>\n",
       "      <td>CA</td>\n",
       "      <td>CA</td>\n",
       "      <td>M</td>\n",
       "      <td>8</td>\n",
       "    </tr>\n",
       "  </tbody>\n",
       "</table>\n",
       "</div>"
      ],
      "text/plain": [
       "   work_year                   country    region experience_level  \\\n",
       "0       2023                     Spain    Europe               SE   \n",
       "1       2023  United States of America  Americas               MI   \n",
       "2       2023  United States of America  Americas               MI   \n",
       "3       2023                    Canada  Americas               SE   \n",
       "4       2023                    Canada  Americas               SE   \n",
       "\n",
       "                  job_title  salary_in_usd employee_residence  \\\n",
       "0  Principal Data Scientist          85847                 ES   \n",
       "1               ML Engineer          30000                 US   \n",
       "2               ML Engineer          25500                 US   \n",
       "3            Data Scientist         175000                 CA   \n",
       "4            Data Scientist         120000                 CA   \n",
       "\n",
       "  company_location company_size  years_of_experience  \n",
       "0               ES            L                    8  \n",
       "1               US            S                    5  \n",
       "2               US            S                    3  \n",
       "3               CA            M                    8  \n",
       "4               CA            M                    8  "
      ]
     },
     "execution_count": 71,
     "metadata": {},
     "output_type": "execute_result"
    }
   ],
   "source": [
    "df.head()\n",
    "#Vizualização de colunas "
   ]
  },
  {
   "cell_type": "code",
   "execution_count": 72,
   "id": "eb16da58",
   "metadata": {},
   "outputs": [
    {
     "data": {
      "text/plain": [
       "(3755, 10)"
      ]
     },
     "execution_count": 72,
     "metadata": {},
     "output_type": "execute_result"
    }
   ],
   "source": [
    "df.shape\n",
    "#Proporção da base"
   ]
  },
  {
   "cell_type": "code",
   "execution_count": 73,
   "id": "892495c3",
   "metadata": {},
   "outputs": [
    {
     "name": "stdout",
     "output_type": "stream",
     "text": [
      "<class 'pandas.core.frame.DataFrame'>\n",
      "RangeIndex: 3755 entries, 0 to 3754\n",
      "Data columns (total 10 columns):\n",
      " #   Column               Non-Null Count  Dtype \n",
      "---  ------               --------------  ----- \n",
      " 0   work_year            3755 non-null   int64 \n",
      " 1   country              3755 non-null   object\n",
      " 2   region               3755 non-null   object\n",
      " 3   experience_level     3755 non-null   object\n",
      " 4   job_title            3755 non-null   object\n",
      " 5   salary_in_usd        3755 non-null   int64 \n",
      " 6   employee_residence   3755 non-null   object\n",
      " 7   company_location     3755 non-null   object\n",
      " 8   company_size         3755 non-null   object\n",
      " 9   years_of_experience  3755 non-null   int64 \n",
      "dtypes: int64(3), object(7)\n",
      "memory usage: 293.5+ KB\n"
     ]
    }
   ],
   "source": [
    "df.info()\n",
    "#Tipos de dados"
   ]
  },
  {
   "cell_type": "code",
   "execution_count": 74,
   "id": "1a055505",
   "metadata": {},
   "outputs": [
    {
     "data": {
      "text/plain": [
       "work_year              0\n",
       "country                0\n",
       "region                 0\n",
       "experience_level       0\n",
       "job_title              0\n",
       "salary_in_usd          0\n",
       "employee_residence     0\n",
       "company_location       0\n",
       "company_size           0\n",
       "years_of_experience    0\n",
       "dtype: int64"
      ]
     },
     "execution_count": 74,
     "metadata": {},
     "output_type": "execute_result"
    }
   ],
   "source": [
    "df.isnull().sum()\n",
    "#Verificação de nulos"
   ]
  },
  {
   "cell_type": "code",
   "execution_count": null,
   "id": "5e82bb2f",
   "metadata": {},
   "outputs": [
    {
     "data": {
      "text/plain": [
       "work_year  country                   region    experience_level  job_title                  salary_in_usd  employee_residence  company_location  company_size  years_of_experience\n",
       "2022       United States of America  Americas  SE                Data Scientist             141525         US                  US                M             6                      0.002929\n",
       "2023       United States of America  Americas  SE                Data Engineer              160000         US                  US                M             6                      0.002663\n",
       "2022       United States of America  Americas  SE                Data Scientist             141525         US                  US                M             7                      0.002397\n",
       "                                                                 Data Engineer              130000         US                  US                M             7                      0.002130\n",
       "                                                                 Data Scientist             191475         US                  US                M             7                      0.002130\n",
       "2023       United States of America  Americas  SE                Data Engineer              129000         US                  US                M             6                      0.002130\n",
       "2022       United States of America  Americas  SE                Data Scientist             191475         US                  US                M             8                      0.002130\n",
       "                                                                                            140000         US                  US                M             8                      0.001864\n",
       "                                                                                            191475         US                  US                M             6                      0.001598\n",
       "2023       United States of America  Americas  SE                Data Engineer              252000         US                  US                M             6                      0.001598\n",
       "                                                                 Data Scientist             175000         US                  US                M             7                      0.001598\n",
       "                                                                 Machine Learning Engineer  150000         US                  US                M             7                      0.001598\n",
       "2022       United States of America  Americas  MI                Data Analyst               100000         US                  US                M             5                      0.001332\n",
       "2023       United States of America  Americas  SE                Machine Learning Engineer  142200         US                  US                M             8                      0.001332\n",
       "2022       United States of America  Americas  MI                Data Analyst               100000         US                  US                M             4                      0.001332\n",
       "                                               SE                Data Analyst               110600         US                  US                M             6                      0.001332\n",
       "                                                                 Data Scientist             185900         US                  US                M             8                      0.001332\n",
       "2023       United States of America  Americas  SE                Data Analyst               125000         US                  US                M             8                      0.001332\n",
       "                                                                 Data Engineer              130000         US                  US                M             8                      0.001332\n",
       "2022       United States of America  Americas  SE                Data Scientist             185900         US                  US                M             6                      0.001332\n",
       "Name: proportion, dtype: float64"
      ]
     },
     "execution_count": 75,
     "metadata": {},
     "output_type": "execute_result"
    }
   ],
   "source": [
    "df.value_counts(normalize=True).head(20)\n",
    "#Já podemos vizualizar que a média dos maiores salarios são:\n",
    "#Nos cargos de Data Scientist e Data Engineer;\n",
    "#No nível de experiencia mais frequente é o Sênior com a média de 6 anos de experiência;\n",
    "#E o tamanho da empresa é médio."
   ]
  },
  {
   "cell_type": "code",
   "execution_count": 76,
   "id": "2033e922",
   "metadata": {},
   "outputs": [
    {
     "data": {
      "text/plain": [
       "company_size\n",
       "L    118300.982379\n",
       "M    143130.548367\n",
       "S     78226.682432\n",
       "Name: salary_in_usd, dtype: float64"
      ]
     },
     "execution_count": 76,
     "metadata": {},
     "output_type": "execute_result"
    }
   ],
   "source": [
    "df.groupby('company_size')['salary_in_usd'].mean()\n",
    "#Média dos valores"
   ]
  },
  {
   "cell_type": "code",
   "execution_count": 77,
   "id": "4b4b28fd",
   "metadata": {},
   "outputs": [
    {
     "data": {
      "text/plain": [
       "company_size\n",
       "L    108500.0\n",
       "M    140000.0\n",
       "S     62146.0\n",
       "Name: salary_in_usd, dtype: float64"
      ]
     },
     "execution_count": 77,
     "metadata": {},
     "output_type": "execute_result"
    }
   ],
   "source": [
    "df.groupby('company_size')['salary_in_usd'].median()\n",
    "#Mediana dos valores"
   ]
  },
  {
   "cell_type": "code",
   "execution_count": 78,
   "id": "0fe0ff2f",
   "metadata": {},
   "outputs": [
    {
     "name": "stdout",
     "output_type": "stream",
     "text": [
      "Desvio padrão: 63055.625278224084\n",
      "Mínimo: 5132\n",
      "Máximo: 450000\n"
     ]
    }
   ],
   "source": [
    "print(\"Desvio padrão:\", df['salary_in_usd'].std())\n",
    "\n",
    "print(\"Mínimo:\", df['salary_in_usd'].min())\n",
    "\n",
    "print(\"Máximo:\", df['salary_in_usd'].max())"
   ]
  },
  {
   "cell_type": "code",
   "execution_count": 79,
   "id": "8da414a3",
   "metadata": {},
   "outputs": [
    {
     "data": {
      "image/png": "[encoded data removed]",
      "text/plain": [
       "<Figure size 640x480 with 1 Axes>"
      ]
     },
     "metadata": {},
     "output_type": "display_data"
    }
   ],
   "source": [
    "import matplotlib.pyplot as plt\n",
    "\n",
    "Q1 = df['salary_in_usd'].quantile(0.25)\n",
    "Q3 = df['salary_in_usd'].quantile(0.75)\n",
    "IQR = Q3 - Q1\n",
    "\n",
    "limite_inferior = Q1 - 1.5 * IQR\n",
    "limite_superior = Q3 + 1.5 * IQR\n",
    "\n",
    "df = df[(df['salary_in_usd'] >= limite_inferior) & (df['salary_in_usd'] <= limite_superior)]\n",
    "\n",
    "df['salary_in_usd'].hist(bins=20, edgecolor='blue')\n",
    "\n",
    "plt.title('Histograma de salários')\n",
    "plt.xlabel('Salário anual')\n",
    "plt.ylabel('Frequência')\n",
    "plt.show()\n",
    "\n",
    "#Foi feita retirada de outliers para melhor vizualização gráfica\n",
    "#Podemos perceber que a maior frequência de salários está entre 10 a 15 mil"
   ]
  },
  {
   "cell_type": "code",
   "execution_count": 80,
   "id": "b9fcb198",
   "metadata": {},
   "outputs": [
    {
     "data": {
      "image/png": "[encoded data removed]",
      "text/plain": [
       "<Figure size 640x480 with 1 Axes>"
      ]
     },
     "metadata": {},
     "output_type": "display_data"
    }
   ],
   "source": [
    "plt.boxplot(df['salary_in_usd'])\n",
    "plt.title('Boxplot dos Valores')\n",
    "plt.ylabel('salary_in_usd')\n",
    "plt.show()\n",
    "#Aqui vemos novamente que a média tende próxima a 15 mil"
   ]
  },
  {
   "cell_type": "code",
   "execution_count": null,
   "id": "bef8800f",
   "metadata": {},
   "outputs": [
    {
     "data": {
      "text/plain": [
       "country\n",
       "Malaysia                    200000.000000\n",
       "Puerto Rico                 166000.000000\n",
       "United States of America    149237.188519\n",
       "Canada                      132222.905882\n",
       "China                       125404.000000\n",
       "New Zealand                 125000.000000\n",
       "Bosnia and Herzegovina      120000.000000\n",
       "Ireland                     114943.428571\n",
       "Dominican Republic          110000.000000\n",
       "Russian Federation          105750.000000\n",
       "Name: salary_in_usd, dtype: float64"
      ]
     },
     "execution_count": 83,
     "metadata": {},
     "output_type": "execute_result"
    }
   ],
   "source": [
    "mdf = df.groupby(\"country\")[\"salary_in_usd\"].mean()\n",
    "\n",
    "mdf.sort_values(ascending=False).head(10)\n",
    "\n",
    "#Top 10 paises com salários mais altos"
   ]
  },
  {
   "cell_type": "code",
   "execution_count": null,
   "id": "a438024d",
   "metadata": {},
   "outputs": [
    {
     "name": "stdout",
     "output_type": "stream",
     "text": [
      "                     salary_in_usd  work_year  years_of_experience\n",
      "salary_in_usd             1.000000   0.250661             0.421085\n",
      "work_year                 0.250661   1.000000             0.178452\n",
      "years_of_experience       0.421085   0.178452             1.000000\n"
     ]
    }
   ],
   "source": [
    "print(df[[\"salary_in_usd\", \"work_year\", \"years_of_experience\"]].corr())\n",
    "\n",
    "#Vemos que os anos de experiência possuem uma relação moderada com o salário"
   ]
  }
 ],
 "metadata": {
  "kernelspec": {
   "display_name": "base",
   "language": "python",
   "name": "python3"
  },
  "language_info": {
   "codemirror_mode": {
    "name": "ipython",
    "version": 3
   },
   "file_extension": ".py",
   "mimetype": "text/x-python",
   "name": "python",
   "nbconvert_exporter": "python",
   "pygments_lexer": "ipython3",
   "version": "3.13.5"
  }
 },
 "nbformat": 4,
 "nbformat_minor": 5
}
